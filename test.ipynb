{
 "cells": [
  {
   "cell_type": "code",
   "execution_count": 81,
   "metadata": {},
   "outputs": [
    {
     "name": "stdout",
     "output_type": "stream",
     "text": [
      "Requirement already satisfied: janome in c:\\users\\akito\\appdata\\local\\packages\\pythonsoftwarefoundation.python.3.11_qbz5n2kfra8p0\\localcache\\local-packages\\python311\\site-packages (0.5.0)\n",
      "Requirement already satisfied: scikit-learn in c:\\users\\akito\\appdata\\local\\packages\\pythonsoftwarefoundation.python.3.11_qbz5n2kfra8p0\\localcache\\local-packages\\python311\\site-packages (1.3.2)\n",
      "Requirement already satisfied: numpy<2.0,>=1.17.3 in c:\\users\\akito\\appdata\\local\\packages\\pythonsoftwarefoundation.python.3.11_qbz5n2kfra8p0\\localcache\\local-packages\\python311\\site-packages (from scikit-learn) (1.26.3)\n",
      "Requirement already satisfied: scipy>=1.5.0 in c:\\users\\akito\\appdata\\local\\packages\\pythonsoftwarefoundation.python.3.11_qbz5n2kfra8p0\\localcache\\local-packages\\python311\\site-packages (from scikit-learn) (1.11.4)\n",
      "Requirement already satisfied: joblib>=1.1.1 in c:\\users\\akito\\appdata\\local\\packages\\pythonsoftwarefoundation.python.3.11_qbz5n2kfra8p0\\localcache\\local-packages\\python311\\site-packages (from scikit-learn) (1.3.2)\n",
      "Requirement already satisfied: threadpoolctl>=2.0.0 in c:\\users\\akito\\appdata\\local\\packages\\pythonsoftwarefoundation.python.3.11_qbz5n2kfra8p0\\localcache\\local-packages\\python311\\site-packages (from scikit-learn) (3.2.0)\n",
      "Note: you may need to restart the kernel to use updated packages.\n"
     ]
    },
    {
     "name": "stderr",
     "output_type": "stream",
     "text": [
      "\n",
      "[notice] A new release of pip is available: 23.2.1 -> 23.3.2\n",
      "[notice] To update, run: C:\\Users\\akito\\AppData\\Local\\Microsoft\\WindowsApps\\PythonSoftwareFoundation.Python.3.11_qbz5n2kfra8p0\\python.exe -m pip install --upgrade pip\n"
     ]
    }
   ],
   "source": [
    "pip install janome scikit-learn\n"
   ]
  },
  {
   "cell_type": "code",
   "execution_count": 82,
   "metadata": {},
   "outputs": [
    {
     "name": "stdout",
     "output_type": "stream",
     "text": [
      "Note: you may need to restart the kernel to use updated packages.Requirement already satisfied: numpy in c:\\users\\akito\\appdata\\local\\packages\\pythonsoftwarefoundation.python.3.11_qbz5n2kfra8p0\\localcache\\local-packages\\python311\\site-packages (1.26.3)\n",
      "Requirement already satisfied: scikit-learn in c:\\users\\akito\\appdata\\local\\packages\\pythonsoftwarefoundation.python.3.11_qbz5n2kfra8p0\\localcache\\local-packages\\python311\\site-packages (1.3.2)\n",
      "Requirement already satisfied: scipy>=1.5.0 in c:\\users\\akito\\appdata\\local\\packages\\pythonsoftwarefoundation.python.3.11_qbz5n2kfra8p0\\localcache\\local-packages\\python311\\site-packages (from scikit-learn) (1.11.4)\n",
      "Requirement already satisfied: joblib>=1.1.1 in c:\\users\\akito\\appdata\\local\\packages\\pythonsoftwarefoundation.python.3.11_qbz5n2kfra8p0\\localcache\\local-packages\\python311\\site-packages (from scikit-learn) (1.3.2)\n",
      "Requirement already satisfied: threadpoolctl>=2.0.0 in c:\\users\\akito\\appdata\\local\\packages\\pythonsoftwarefoundation.python.3.11_qbz5n2kfra8p0\\localcache\\local-packages\\python311\\site-packages (from scikit-learn) (3.2.0)\n",
      "\n"
     ]
    },
    {
     "name": "stderr",
     "output_type": "stream",
     "text": [
      "\n",
      "[notice] A new release of pip is available: 23.2.1 -> 23.3.2\n",
      "[notice] To update, run: C:\\Users\\akito\\AppData\\Local\\Microsoft\\WindowsApps\\PythonSoftwareFoundation.Python.3.11_qbz5n2kfra8p0\\python.exe -m pip install --upgrade pip\n"
     ]
    }
   ],
   "source": [
    "pip install numpy scikit-learn\n"
   ]
  },
  {
   "cell_type": "code",
   "execution_count": 83,
   "metadata": {},
   "outputs": [],
   "source": [
    "from janome.tokenizer import Tokenizer\n",
    "from sklearn.feature_extraction.text import TfidfVectorizer\n",
    "from sklearn.metrics.pairwise import cosine_similarity"
   ]
  },
  {
   "cell_type": "code",
   "execution_count": 91,
   "metadata": {},
   "outputs": [
    {
     "name": "stdout",
     "output_type": "stream",
     "text": [
      "('能登半島地震 石川県内死者128人、安否不明195人 正月の団らん「なんで私がこんなことに…」 雪や冷たい雨の中、懸命の捜索活動続く',)\n",
      "('羽田空港C滑走路、8日午前0時から運用再開',)\n",
      "('自民・安倍派の池田佳隆衆議院議員と政策秘書を逮捕 派閥のパーティー券めぐる政治資金規正法違反の疑い 東京地検特捜部',)\n",
      "('自民党 池田議員を最も重い「除名」処分と決定',)\n",
      "('上川外相“引き続き支援”伝える ゼレンスキー大統領と会談',)\n",
      "('能登半島地震、発生から1週間 石川県の死者168人、安否不明者323人に 気象庁「今後1か月程度、震度5強以上に注意」',)\n",
      "('能登半島地震「激甚災害」指定へ 岸田首相が指示、今週中にも閣議決定へ',)\n",
      "('ロシア軍の攻撃で4人死亡 ウクライナ、地対空ミサイルの不足で迎撃率が低下',)\n",
      "('旧田中角栄邸で火事 田中真紀子氏「仏壇に線香をあげていた」',)\n",
      "('自民党「政治刷新本部」 国会議員およそ30人参加・11日に初会合で最終調整',)\n",
      "('イスラエルが兵員削減へ「より標的絞った作戦に移行」',)\n",
      "('石川県の死者202人に 珠洲市で6人が災害関連死…能登半島地震で初の確認',)\n",
      "('岸田首相、早ければ13日にも被災地訪問へ 能登半島地震',)\n",
      "('米国務長官「ガザ地区の民間人被害回避を」イスラエル首相らと会談',)\n",
      "('台湾総統選で与党・民進党の頼氏「中国の選挙介入、今回が最も深刻」',)\n",
      "('元部員に執行猶予付き有罪判決 日大アメフト部違法薬物事件',)\n",
      "('注意喚起のモニター常時監視へ、停止位置は光反射塗装に切り替え 羽田事故受け国交省が緊急対策',)\n",
      "('輪島市・珠洲市で仮設住宅建設へ 死者206人、8人が災害関連死…能登半島地震',)\n",
      "('ユニクロ展開のファストリ、ヒートテックなど10万着の寄付発表 能登半島地震の被災者支援',)\n",
      "('沖縄・玉城知事「誠に遺憾だ」 名護市辺野古沖、埋め立て向け工事を開始',)\n",
      "('大川原化工機」裁判 国と東京都、会社側が控訴',)\n",
      "('アパートで77歳男性死亡…死因は窒息死 殺人事件で捜査本部設置 三重・鈴鹿市',)\n",
      "('米中央軍、中東の紅海で無人機などを撃墜と発表…フーシ派が“最大規模の攻撃”',)\n",
      "('石川・珠洲市の小学校、2日遅れで再開 能登半島地震11日目',)\n",
      "('岸田首相「安全な環境への移動の検討が重要だ」 被災地外への「2次避難」呼びかけ',)\n",
      "('東京・板橋で火事 2人死亡「バイクの燃料を入れようとしてストーブに…」',)\n",
      "('プーチン氏、北方領土訪問の考え「行ったことないが必ず行く」',)\n",
      "('ガザ地区攻撃「ジェノサイド」と南アが提訴…国際司法裁で訴訟の審理始まる',)\n",
      "('日航機パイロット「ブレーキなどを操作も機能せず」…海保機との衝突時の状況語る',)\n",
      "('能登半島地震 石川県内死者128人、安否不明195人 正月の団らん「なんで私がこんなことに…」 雪や冷たい雨の中、懸命の捜索活動続く',)\n",
      "('羽田空港C滑走路、8日午前0時から運用再開',)\n",
      "('自民・安倍派の池田佳隆衆議院議員と政策秘書を逮捕 派閥のパーティー券めぐる政治資金規正法違反の疑い 東京地検特捜部',)\n",
      "('自民党 池田議員を最も重い「除名」処分と決定',)\n",
      "('上川外相“引き続き支援”伝える ゼレンスキー大統領と会談',)\n",
      "('石川県の死者84人に…安否不明は179人 能登地区では水不足が深刻 能登半島地震',)\n",
      "('富山・氷見市の小学校敷地で大きな“地割れ” 能登半島地震',)\n",
      "('新潟市“液状化”被害からの復旧続く 「り災証明書」発行の受け付け開始',)\n",
      "('管制官、滑走路上で約40秒間停止の海保機に「気づいていなかった」 羽田空港衝突事故',)\n",
      "('自民党・派閥“パーティー券問題”うけ…総裁直属「政治刷新本部」立ち上げへ 岸田首相が表明',)\n",
      "('能登半島地震 石川県内死者128人、安否不明195人 正月の団らん「なんで私がこんなことに…」 雪や冷たい雨の中、懸命の捜索活動続く',)\n",
      "('羽田空港C滑走路、8日午前0時から運用再開',)\n",
      "('自民・安倍派の池田佳隆衆議院議員と政策秘書を逮捕 派閥のパーティー券めぐる政治資金規正法違反の疑い 東京地検特捜部',)\n",
      "('自民党 池田議員を最も重い「除名」処分と決定',)\n",
      "('上川外相“引き続き支援”伝える ゼレンスキー大統領と会談',)\n",
      "('能登半島地震、発生から1週間 石川県の死者168人、安否不明者323人に 気象庁「今後1か月程度、震度5強以上に注意」',)\n",
      "('能登半島地震「激甚災害」指定へ 岸田首相が指示、今週中にも閣議決定へ',)\n",
      "('ロシア軍の攻撃で4人死亡 ウクライナ、地対空ミサイルの不足で迎撃率が低下',)\n",
      "('旧田中角栄邸で火事 田中真紀子氏「仏壇に線香をあげていた」',)\n",
      "('自民党「政治刷新本部」 国会議員およそ30人参加・11日に初会合で最終調整',)\n",
      "('イスラエルが兵員削減へ「より標的絞った作戦に移行」',)\n",
      "('石川県の死者202人に 珠洲市で6人が災害関連死…能登半島地震で初の確認',)\n",
      "('岸田首相、早ければ13日にも被災地訪問へ 能登半島地震',)\n",
      "('米国務長官「ガザ地区の民間人被害回避を」イスラエル首相らと会談',)\n",
      "('台湾総統選で与党・民進党の頼氏「中国の選挙介入、今回が最も深刻」',)\n",
      "('元部員に執行猶予付き有罪判決 日大アメフト部違法薬物事件',)\n",
      "('注意喚起のモニター常時監視へ、停止位置は光反射塗装に切り替え 羽田事故受け国交省が緊急対策',)\n",
      "('輪島市・珠洲市で仮設住宅建設へ 死者206人、8人が災害関連死…能登半島地震',)\n",
      "('ユニクロ展開のファストリ、ヒートテックなど10万着の寄付発表 能登半島地震の被災者支援',)\n",
      "('沖縄・玉城知事「誠に遺憾だ」 名護市辺野古沖、埋め立て向け工事を開始',)\n",
      "('大川原化工機」裁判 国と東京都、会社側が控訴',)\n",
      "('アパートで77歳男性死亡…死因は窒息死 殺人事件で捜査本部設置 三重・鈴鹿市',)\n",
      "('米中央軍、中東の紅海で無人機などを撃墜と発表…フーシ派が“最大規模の攻撃”',)\n",
      "('石川・珠洲市の小学校、2日遅れで再開 能登半島地震11日目',)\n",
      "('岸田首相「安全な環境への移動の検討が重要だ」 被災地外への「2次避難」呼びかけ',)\n",
      "('東京・板橋で火事 2人死亡「バイクの燃料を入れようとしてストーブに…」',)\n",
      "('プーチン氏、北方領土訪問の考え「行ったことないが必ず行く」',)\n",
      "('ガザ地区攻撃「ジェノサイド」と南アが提訴…国際司法裁で訴訟の審理始まる',)\n",
      "('日航機パイロット「ブレーキなどを操作も機能せず」…海保機との衝突時の状況語る',)\n",
      "('能登半島地震 石川県内死者128人、安否不明195人 正月の団らん「なんで私がこんなことに…」 雪や冷たい雨の中、懸命の捜索活動続く',)\n",
      "('羽田空港C滑走路、8日午前0時から運用再開',)\n",
      "('自民・安倍派の池田佳隆衆議院議員と政策秘書を逮捕 派閥のパーティー券めぐる政治資金規正法違反の疑い 東京地検特捜部',)\n",
      "('自民党 池田議員を最も重い「除名」処分と決定',)\n",
      "('上川外相“引き続き支援”伝える ゼレンスキー大統領と会談',)\n",
      "('石川県の死者84人に…安否不明は179人 能登地区では水不足が深刻 能登半島地震',)\n",
      "('富山・氷見市の小学校敷地で大きな“地割れ” 能登半島地震',)\n",
      "('新潟市“液状化”被害からの復旧続く 「り災証明書」発行の受け付け開始',)\n",
      "('管制官、滑走路上で約40秒間停止の海保機に「気づいていなかった」 羽田空港衝突事故',)\n",
      "('自民党・派閥“パーティー券問題”うけ…総裁直属「政治刷新本部」立ち上げへ 岸田首相が表明',)\n"
     ]
    }
   ],
   "source": [
    "import sqlite3\n",
    "\n",
    "# 既存のデータベースファイルに接続\n",
    "conn = sqlite3.connect('w.sqlite')  # 'your_existing_database.db'に既存のデータベースファイルの名前を置き換えてください\n",
    "\n",
    "# カーソルを取得\n",
    "cursor = conn.cursor()\n",
    "\n",
    "# 既存のデータベースでクエリを実行する例\n",
    "cursor.execute(\"SELECT * FROM w\")  # 'your_table_name'に対象のテーブル名を置き換えてください\n",
    "rows = cursor.fetchall()\n",
    "\n",
    "# 取得したデータを表示\n",
    "for row in rows:\n",
    "    print(row)\n",
    "\n",
    "# 接続を閉じる\n",
    "conn.close()\n"
   ]
  },
  {
   "cell_type": "code",
   "execution_count": 51,
   "metadata": {},
   "outputs": [
    {
     "name": "stdout",
     "output_type": "stream",
     "text": [
      "類似記事: 今週の天気は曇りとなる見込みです。 (類似度: 0.85)\n"
     ]
    }
   ],
   "source": [
    "from janome.tokenizer import Tokenizer\n",
    "from sklearn.feature_extraction.text import TfidfVectorizer\n",
    "from sklearn.metrics.pairwise import cosine_similarity\n",
    "\n",
    "# サンプルデータベース1\n",
    "database1 = [\n",
    "    \"今日の天気は晴れです。\",\n",
    "]\n",
    "\n",
    "# サンプルデータベース2\n",
    "database2 = [\n",
    "    \"今週の天気は曇りとなる見込みです。\",\n",
    "    \"新型ウイルスの感染者が急増しています。\",\n",
    "    \"プログラミングの勉強法についての記事。\",\n",
    "]\n",
    "\n",
    "# Janomeを使用して文章をトークン化する関数\n",
    "def tokenize(text):\n",
    "    t = Tokenizer()\n",
    "    return [token.base_form for token in t.tokenize(text)]\n",
    "\n",
    "# TF-IDFベクトル化\n",
    "vectorizer = TfidfVectorizer(tokenizer=tokenize)\n",
    "tfidf_matrix1 = vectorizer.fit_transform(database1)\n",
    "tfidf_matrix2 = vectorizer.transform(database2)\n",
    "\n",
    "# 類似度行列を計算\n",
    "similarity_matrix = cosine_similarity(tfidf_matrix1, tfidf_matrix2)\n",
    "\n",
    "# 一方のデータベースからランダムに1つの記事を選択\n",
    "query_index = 0  # 例として、最初のデータベースの最初の記事を選択\n",
    "\n",
    "# 類似度が高い順にソートし、上位3つを表示\n",
    "similarities = similarity_matrix[:, query_index]\n",
    "similar_articles_indices = similarities.argsort()[:-4:-1]  # 上位3つを取得\n",
    "for index in similar_articles_indices:\n",
    "    print(f\"類似記事: {database2[index]} (類似度: {similarities[index]:.2f})\")\n",
    "\n"
   ]
  }
 ],
 "metadata": {
  "kernelspec": {
   "display_name": "Python 3",
   "language": "python",
   "name": "python3"
  },
  "language_info": {
   "codemirror_mode": {
    "name": "ipython",
    "version": 3
   },
   "file_extension": ".py",
   "mimetype": "text/x-python",
   "name": "python",
   "nbconvert_exporter": "python",
   "pygments_lexer": "ipython3",
   "version": "3.11.7"
  }
 },
 "nbformat": 4,
 "nbformat_minor": 2
}
