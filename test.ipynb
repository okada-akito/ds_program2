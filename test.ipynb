{
 "cells": [
  {
   "cell_type": "code",
   "execution_count": 28,
   "metadata": {},
   "outputs": [
    {
     "name": "stdout",
     "output_type": "stream",
     "text": [
      "Requirement already satisfied: janome in c:\\users\\akito\\appdata\\local\\packages\\pythonsoftwarefoundation.python.3.11_qbz5n2kfra8p0\\localcache\\local-packages\\python311\\site-packages (0.5.0)\n",
      "Note: you may need to restart the kernel to use updated packages.\n"
     ]
    },
    {
     "name": "stderr",
     "output_type": "stream",
     "text": [
      "\n",
      "[notice] A new release of pip is available: 23.2.1 -> 23.3.2\n",
      "[notice] To update, run: C:\\Users\\akito\\AppData\\Local\\Microsoft\\WindowsApps\\PythonSoftwareFoundation.Python.3.11_qbz5n2kfra8p0\\python.exe -m pip install --upgrade pip\n"
     ]
    }
   ],
   "source": [
    "pip install janome\n"
   ]
  },
  {
   "cell_type": "code",
   "execution_count": 32,
   "metadata": {},
   "outputs": [
    {
     "name": "stdout",
     "output_type": "stream",
     "text": [
      "Requirement already satisfied: numpy in c:\\users\\akito\\appdata\\local\\packages\\pythonsoftwarefoundation.python.3.11_qbz5n2kfra8p0\\localcache\\local-packages\\python311\\site-packages (1.26.3)\n",
      "Collecting scikit-learn\n",
      "  Obtaining dependency information for scikit-learn from https://files.pythonhosted.org/packages/4e/ba/ce9bd1cd4953336a0e213b29cb80bb11816f2a93de8c99f88ef0b446ad0c/scikit_learn-1.3.2-cp311-cp311-win_amd64.whl.metadata\n",
      "  Downloading scikit_learn-1.3.2-cp311-cp311-win_amd64.whl.metadata (11 kB)\n",
      "Collecting scipy>=1.5.0 (from scikit-learn)\n",
      "  Obtaining dependency information for scipy>=1.5.0 from https://files.pythonhosted.org/packages/43/d0/f3cd75b62e1b90f48dbf091261b2fc7ceec14a700e308c50f6a69c83d337/scipy-1.11.4-cp311-cp311-win_amd64.whl.metadata\n",
      "  Downloading scipy-1.11.4-cp311-cp311-win_amd64.whl.metadata (60 kB)\n",
      "     ---------------------------------------- 0.0/60.4 kB ? eta -:--:--\n",
      "     -------------------- ------------------- 30.7/60.4 kB 1.3 MB/s eta 0:00:01\n",
      "     ---------------------------------------- 60.4/60.4 kB 1.6 MB/s eta 0:00:00\n",
      "Collecting joblib>=1.1.1 (from scikit-learn)\n",
      "  Obtaining dependency information for joblib>=1.1.1 from https://files.pythonhosted.org/packages/10/40/d551139c85db202f1f384ba8bcf96aca2f329440a844f924c8a0040b6d02/joblib-1.3.2-py3-none-any.whl.metadata\n",
      "  Downloading joblib-1.3.2-py3-none-any.whl.metadata (5.4 kB)\n",
      "Collecting threadpoolctl>=2.0.0 (from scikit-learn)\n",
      "  Obtaining dependency information for threadpoolctl>=2.0.0 from https://files.pythonhosted.org/packages/81/12/fd4dea011af9d69e1cad05c75f3f7202cdcbeac9b712eea58ca779a72865/threadpoolctl-3.2.0-py3-none-any.whl.metadata\n",
      "  Downloading threadpoolctl-3.2.0-py3-none-any.whl.metadata (10.0 kB)\n",
      "Downloading scikit_learn-1.3.2-cp311-cp311-win_amd64.whl (9.2 MB)\n",
      "   ---------------------------------------- 0.0/9.2 MB ? eta -:--:--\n",
      "   - -------------------------------------- 0.3/9.2 MB 9.9 MB/s eta 0:00:01\n",
      "   ---- ----------------------------------- 0.9/9.2 MB 11.9 MB/s eta 0:00:01\n",
      "   -------- ------------------------------- 1.9/9.2 MB 15.0 MB/s eta 0:00:01\n",
      "   -------------- ------------------------- 3.4/9.2 MB 19.7 MB/s eta 0:00:01\n",
      "   ---------------------- ----------------- 5.2/9.2 MB 23.7 MB/s eta 0:00:01\n",
      "   ----------------------------- ---------- 6.8/9.2 MB 25.7 MB/s eta 0:00:01\n",
      "   ------------------------------------ --- 8.4/9.2 MB 26.8 MB/s eta 0:00:01\n",
      "   ---------------------------------------- 9.2/9.2 MB 25.6 MB/s eta 0:00:00\n",
      "Downloading joblib-1.3.2-py3-none-any.whl (302 kB)\n",
      "   ---------------------------------------- 0.0/302.2 kB ? eta -:--:--\n",
      "   ---------------------------------------- 302.2/302.2 kB ? eta 0:00:00\n",
      "Downloading scipy-1.11.4-cp311-cp311-win_amd64.whl (44.1 MB)\n",
      "   ---------------------------------------- 0.0/44.1 MB ? eta -:--:--\n",
      "   - -------------------------------------- 1.5/44.1 MB 45.4 MB/s eta 0:00:01\n",
      "   --- ------------------------------------ 3.4/44.1 MB 42.4 MB/s eta 0:00:01\n",
      "   ---- ----------------------------------- 5.3/44.1 MB 42.3 MB/s eta 0:00:01\n",
      "   ------ --------------------------------- 7.2/44.1 MB 41.9 MB/s eta 0:00:01\n",
      "   -------- ------------------------------- 9.2/44.1 MB 41.8 MB/s eta 0:00:01\n",
      "   ---------- ----------------------------- 11.1/44.1 MB 40.9 MB/s eta 0:00:01\n",
      "   ----------- ---------------------------- 12.8/44.1 MB 40.9 MB/s eta 0:00:01\n",
      "   ------------ --------------------------- 14.2/44.1 MB 38.5 MB/s eta 0:00:01\n",
      "   -------------- ------------------------- 15.8/44.1 MB 38.5 MB/s eta 0:00:01\n",
      "   --------------- ------------------------ 17.4/44.1 MB 36.3 MB/s eta 0:00:01\n",
      "   ----------------- ---------------------- 19.0/44.1 MB 36.4 MB/s eta 0:00:01\n",
      "   ------------------ --------------------- 20.8/44.1 MB 34.4 MB/s eta 0:00:01\n",
      "   -------------------- ------------------- 22.8/44.1 MB 34.4 MB/s eta 0:00:01\n",
      "   ---------------------- ----------------- 24.7/44.1 MB 38.5 MB/s eta 0:00:01\n",
      "   ------------------------ --------------- 26.6/44.1 MB 38.5 MB/s eta 0:00:01\n",
      "   ------------------------- -------------- 28.6/44.1 MB 40.9 MB/s eta 0:00:01\n",
      "   --------------------------- ------------ 30.6/44.1 MB 40.9 MB/s eta 0:00:01\n",
      "   ----------------------------- ---------- 32.5/44.1 MB 40.9 MB/s eta 0:00:01\n",
      "   ------------------------------- -------- 34.3/44.1 MB 40.9 MB/s eta 0:00:01\n",
      "   -------------------------------- ------- 35.8/44.1 MB 38.6 MB/s eta 0:00:01\n",
      "   --------------------------------- ------ 37.4/44.1 MB 38.6 MB/s eta 0:00:01\n",
      "   ----------------------------------- ---- 39.1/44.1 MB 36.4 MB/s eta 0:00:01\n",
      "   ------------------------------------ --- 40.7/44.1 MB 36.4 MB/s eta 0:00:01\n",
      "   -------------------------------------- - 42.5/44.1 MB 36.4 MB/s eta 0:00:01\n",
      "   ---------------------------------------  44.1/44.1 MB 36.4 MB/s eta 0:00:01\n",
      "   ---------------------------------------  44.1/44.1 MB 36.4 MB/s eta 0:00:01\n",
      "   ---------------------------------------- 44.1/44.1 MB 26.2 MB/s eta 0:00:00\n",
      "Downloading threadpoolctl-3.2.0-py3-none-any.whl (15 kB)\n",
      "Installing collected packages: threadpoolctl, scipy, joblib, scikit-learn\n",
      "Successfully installed joblib-1.3.2 scikit-learn-1.3.2 scipy-1.11.4 threadpoolctl-3.2.0\n",
      "Note: you may need to restart the kernel to use updated packages.\n"
     ]
    },
    {
     "name": "stderr",
     "output_type": "stream",
     "text": [
      "\n",
      "[notice] A new release of pip is available: 23.2.1 -> 23.3.2\n",
      "[notice] To update, run: C:\\Users\\akito\\AppData\\Local\\Microsoft\\WindowsApps\\PythonSoftwareFoundation.Python.3.11_qbz5n2kfra8p0\\python.exe -m pip install --upgrade pip\n"
     ]
    }
   ],
   "source": [
    "pip install numpy scikit-learn\n"
   ]
  },
  {
   "cell_type": "code",
   "execution_count": 33,
   "metadata": {},
   "outputs": [],
   "source": [
    "from janome.tokenizer import Tokenizer\n",
    "from sklearn.feature_extraction.text import TfidfVectorizer\n",
    "from sklearn.metrics.pairwise import cosine_similarity"
   ]
  },
  {
   "cell_type": "code",
   "execution_count": null,
   "metadata": {},
   "outputs": [],
   "source": []
  }
 ],
 "metadata": {
  "kernelspec": {
   "display_name": "Python 3",
   "language": "python",
   "name": "python3"
  },
  "language_info": {
   "codemirror_mode": {
    "name": "ipython",
    "version": 3
   },
   "file_extension": ".py",
   "mimetype": "text/x-python",
   "name": "python",
   "nbconvert_exporter": "python",
   "pygments_lexer": "ipython3",
   "version": "3.11.7"
  }
 },
 "nbformat": 4,
 "nbformat_minor": 2
}
