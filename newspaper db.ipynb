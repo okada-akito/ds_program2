{
 "cells": [
  {
   "cell_type": "code",
   "execution_count": null,
   "metadata": {},
   "outputs": [],
   "source": [
    "import sqlite3\n",
    "path = '/content/'\n",
    "db_name = 'q.sqlite'\n",
    "data = ['text'\n",
    "]\n",
    "\n"
   ]
  },
  {
   "cell_type": "code",
   "execution_count": null,
   "metadata": {},
   "outputs": [],
   "source": [
    "con = sqlite3.connect(path + db_name)\n",
    "cur = con.cursor()\n",
    "sql_create_table = 'CREATE TABLE IF NOT EXISTS test(title TEXT);'\n",
    "cur.execute(sql_create_table)\n",
    "cur.executemany('INSERT INTO test (title) VALUES (?)', data)\n",
    "con.commit()\n",
    "con.close()\n"
   ]
  }
 ],
 "metadata": {
  "language_info": {
   "name": "python"
  }
 },
 "nbformat": 4,
 "nbformat_minor": 2
}
